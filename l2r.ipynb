{
 "cells": [
  {
   "cell_type": "code",
   "execution_count": 1,
   "metadata": {},
   "outputs": [],
   "source": [
    "from torch.autograd import Variable"
   ]
  },
  {
   "cell_type": "code",
   "execution_count": 2,
   "metadata": {},
   "outputs": [],
   "source": [
    "from torch.nn.functional import softmax"
   ]
  },
  {
   "cell_type": "code",
   "execution_count": 3,
   "metadata": {},
   "outputs": [],
   "source": [
    "import torch\n",
    "import torch.nn as nn\n",
    "import torch.nn.functional as F"
   ]
  },
  {
   "cell_type": "code",
   "execution_count": 4,
   "metadata": {},
   "outputs": [
    {
     "name": "stdout",
     "output_type": "stream",
     "text": [
      "Help on function tanh in module torch.nn.functional:\n",
      "\n",
      "tanh(input)\n",
      "    tanh(input) -> Tensor\n",
      "    \n",
      "    Applies element-wise,\n",
      "    :math:`\\text{Tanh}(x) = \\tanh(x) = \\frac{\\exp(x) - \\exp(-x)}{\\exp(x) + \\exp(-x)}`\n",
      "    \n",
      "    See :class:`~torch.nn.Tanh` for more details.\n",
      "\n"
     ]
    }
   ],
   "source": [
    "help(F.tanh)"
   ]
  },
  {
   "cell_type": "code",
   "execution_count": 296,
   "metadata": {},
   "outputs": [],
   "source": [
    "from torchvision import datasets\n",
    "import torchvision.transforms as transforms"
   ]
  },
  {
   "cell_type": "code",
   "execution_count": 297,
   "metadata": {},
   "outputs": [],
   "source": [
    "transform = transforms.ToTensor()\n",
    "\n",
    "# choose the training and test datasets\n",
    "train_data = datasets.MNIST(root = 'data', train = True,\n",
    "                                   download = True, transform = transform)\n",
    "test_data = datasets.MNIST(root = 'data', train = False,\n",
    "                                  download = True, transform = transform)"
   ]
  },
  {
   "cell_type": "code",
   "execution_count": 298,
   "metadata": {},
   "outputs": [
    {
     "data": {
      "text/plain": [
       "(60000, 28, 28)"
      ]
     },
     "execution_count": 298,
     "metadata": {},
     "output_type": "execute_result"
    }
   ],
   "source": [
    "train_data.data.numpy().shape"
   ]
  },
  {
   "cell_type": "code",
   "execution_count": 299,
   "metadata": {},
   "outputs": [
    {
     "data": {
      "text/plain": [
       "(5923, 10)"
      ]
     },
     "execution_count": 299,
     "metadata": {},
     "output_type": "execute_result"
    }
   ],
   "source": [
    "import numpy as np\n",
    "np.eye(10)[train_data.targets.numpy()][train_data.targets.numpy() == 0].shape"
   ]
  },
  {
   "cell_type": "code",
   "execution_count": 300,
   "metadata": {},
   "outputs": [
    {
     "data": {
      "text/plain": [
       "(10000, 28, 28)"
      ]
     },
     "execution_count": 300,
     "metadata": {},
     "output_type": "execute_result"
    }
   ],
   "source": [
    "test_data.data.numpy().shape"
   ]
  },
  {
   "cell_type": "code",
   "execution_count": 301,
   "metadata": {},
   "outputs": [],
   "source": [
    "train_label = train_data.targets.numpy()"
   ]
  },
  {
   "cell_type": "code",
   "execution_count": 302,
   "metadata": {},
   "outputs": [],
   "source": [
    "test_label = test_data.targets.numpy()"
   ]
  },
  {
   "cell_type": "code",
   "execution_count": 303,
   "metadata": {},
   "outputs": [],
   "source": [
    "train_data = train_data.data.view(60000, -1).numpy()"
   ]
  },
  {
   "cell_type": "code",
   "execution_count": 304,
   "metadata": {},
   "outputs": [],
   "source": [
    "test_data = test_data.data.view(10000, -1).numpy()"
   ]
  },
  {
   "cell_type": "code",
   "execution_count": 305,
   "metadata": {},
   "outputs": [
    {
     "data": {
      "text/plain": [
       "(10000, 784)"
      ]
     },
     "execution_count": 305,
     "metadata": {},
     "output_type": "execute_result"
    }
   ],
   "source": [
    "test_data.shape"
   ]
  },
  {
   "cell_type": "code",
   "execution_count": 306,
   "metadata": {},
   "outputs": [
    {
     "data": {
      "text/plain": [
       "(60000,)"
      ]
     },
     "execution_count": 306,
     "metadata": {},
     "output_type": "execute_result"
    }
   ],
   "source": [
    "train_label.shape"
   ]
  },
  {
   "cell_type": "code",
   "execution_count": 307,
   "metadata": {},
   "outputs": [
    {
     "data": {
      "text/plain": [
       "(10000,)"
      ]
     },
     "execution_count": 307,
     "metadata": {},
     "output_type": "execute_result"
    }
   ],
   "source": [
    "test_label.shape"
   ]
  },
  {
   "cell_type": "code",
   "execution_count": 17,
   "metadata": {},
   "outputs": [
    {
     "data": {
      "text/plain": [
       "(18065,)"
      ]
     },
     "execution_count": 17,
     "metadata": {},
     "output_type": "execute_result"
    }
   ],
   "source": [
    "train_label[train_label > 6].shape"
   ]
  },
  {
   "cell_type": "code",
   "execution_count": 177,
   "metadata": {},
   "outputs": [],
   "source": [
    "train_sets = [train_data[train_label == i] for i in [7, 8, 9]]\n",
    "test_sets = [test_data[test_label ==i] for i in [7, 8, 9]]\n",
    "train_labels = [train_label[train_label == i] for i in [7, 8, 9]]\n",
    "test_labels = [test_label[test_label == i] for i in [7, 8, 9]]"
   ]
  },
  {
   "cell_type": "code",
   "execution_count": 24,
   "metadata": {},
   "outputs": [],
   "source": [
    "train_size = min(map(len, train_sets))"
   ]
  },
  {
   "cell_type": "code",
   "execution_count": 25,
   "metadata": {},
   "outputs": [],
   "source": [
    "test_size = min(map(len, test_sets))"
   ]
  },
  {
   "cell_type": "code",
   "execution_count": 26,
   "metadata": {},
   "outputs": [
    {
     "data": {
      "text/plain": [
       "974"
      ]
     },
     "execution_count": 26,
     "metadata": {},
     "output_type": "execute_result"
    }
   ],
   "source": [
    "test_size"
   ]
  },
  {
   "cell_type": "code",
   "execution_count": 27,
   "metadata": {},
   "outputs": [],
   "source": [
    "train_data = np.array([[train_sets[j][i] for j in range(3)] for i in range(train_size)])\n",
    "train_label = np.array([[train_labels[j][i] for j in range(3)] for i in range(train_size)])\n",
    "\n",
    "test_data = np.array([[test_sets[j][i] for j in range(3)] for i in range(test_size)])\n",
    "test_label = np.array([[test_labels[j][i] for j in range(3)] for i in range(test_size)])"
   ]
  },
  {
   "cell_type": "code",
   "execution_count": 28,
   "metadata": {},
   "outputs": [
    {
     "data": {
      "text/plain": [
       "(974, 3, 784)"
      ]
     },
     "execution_count": 28,
     "metadata": {},
     "output_type": "execute_result"
    }
   ],
   "source": [
    "test_data.shape"
   ]
  },
  {
   "cell_type": "code",
   "execution_count": 308,
   "metadata": {},
   "outputs": [],
   "source": [
    "train_data = train_data / 255.0"
   ]
  },
  {
   "cell_type": "code",
   "execution_count": 309,
   "metadata": {},
   "outputs": [],
   "source": [
    "test_data = test_data / 255.0"
   ]
  },
  {
   "cell_type": "code",
   "execution_count": 31,
   "metadata": {},
   "outputs": [],
   "source": [
    "train_label = train_label * 0.75 - 7"
   ]
  },
  {
   "cell_type": "code",
   "execution_count": 32,
   "metadata": {},
   "outputs": [],
   "source": [
    "test_label = test_label * 0.75 - 7"
   ]
  },
  {
   "cell_type": "code",
   "execution_count": 33,
   "metadata": {},
   "outputs": [],
   "source": [
    "train_label = train_label + 1.25"
   ]
  },
  {
   "cell_type": "code",
   "execution_count": 34,
   "metadata": {},
   "outputs": [],
   "source": [
    "test_label = test_label + 1.25"
   ]
  },
  {
   "cell_type": "code",
   "execution_count": 35,
   "metadata": {},
   "outputs": [
    {
     "data": {
      "text/plain": [
       "1.0"
      ]
     },
     "execution_count": 35,
     "metadata": {},
     "output_type": "execute_result"
    }
   ],
   "source": [
    "train_data[0].max()"
   ]
  },
  {
   "cell_type": "code",
   "execution_count": 29,
   "metadata": {},
   "outputs": [],
   "source": [
    "import argparse\n",
    "import torch\n",
    "import torch.nn as nn\n",
    "import torch.nn.functional as F\n",
    "import torch.optim as optim\n",
    "from torchvision import datasets, transforms\n",
    "from torch.autograd import Variable"
   ]
  },
  {
   "cell_type": "code",
   "execution_count": 30,
   "metadata": {},
   "outputs": [],
   "source": [
    "import torch.utils.data as Data"
   ]
  },
  {
   "cell_type": "code",
   "execution_count": 31,
   "metadata": {},
   "outputs": [],
   "source": [
    "import torch.nn.functional as F"
   ]
  },
  {
   "cell_type": "code",
   "execution_count": 39,
   "metadata": {},
   "outputs": [
    {
     "ename": "NameError",
     "evalue": "name 'loader' is not defined",
     "output_type": "error",
     "traceback": [
      "\u001b[0;31m---------------------------------------------------------------------------\u001b[0m",
      "\u001b[0;31mNameError\u001b[0m                                 Traceback (most recent call last)",
      "\u001b[0;32m<ipython-input-39-76d1540cbc5c>\u001b[0m in \u001b[0;36m<module>\u001b[0;34m\u001b[0m\n\u001b[0;32m----> 1\u001b[0;31m \u001b[0;32mfor\u001b[0m \u001b[0m_\u001b[0m\u001b[0;34m,\u001b[0m \u001b[0;34m(\u001b[0m\u001b[0mx\u001b[0m\u001b[0;34m,\u001b[0m \u001b[0my\u001b[0m\u001b[0;34m)\u001b[0m \u001b[0;32min\u001b[0m \u001b[0menumerate\u001b[0m\u001b[0;34m(\u001b[0m\u001b[0mloader\u001b[0m\u001b[0;34m)\u001b[0m\u001b[0;34m:\u001b[0m\u001b[0;34m\u001b[0m\u001b[0;34m\u001b[0m\u001b[0m\n\u001b[0m\u001b[1;32m      2\u001b[0m     \u001b[0mprint\u001b[0m\u001b[0;34m(\u001b[0m\u001b[0mx\u001b[0m\u001b[0;34m)\u001b[0m\u001b[0;34m\u001b[0m\u001b[0;34m\u001b[0m\u001b[0m\n\u001b[1;32m      3\u001b[0m     \u001b[0;32mbreak\u001b[0m\u001b[0;34m\u001b[0m\u001b[0;34m\u001b[0m\u001b[0m\n",
      "\u001b[0;31mNameError\u001b[0m: name 'loader' is not defined"
     ]
    }
   ],
   "source": [
    "for _, (x, y) in enumerate(loader):\n",
    "    print(x)\n",
    "    break"
   ]
  },
  {
   "cell_type": "code",
   "execution_count": 86,
   "metadata": {},
   "outputs": [
    {
     "name": "stdout",
     "output_type": "stream",
     "text": [
      "Help on package torch.utils.data in torch.utils:\n",
      "\n",
      "NAME\n",
      "    torch.utils.data\n",
      "\n",
      "PACKAGE CONTENTS\n",
      "    _utils (package)\n",
      "    dataloader\n",
      "    dataset\n",
      "    distributed\n",
      "    sampler\n",
      "\n",
      "FILE\n",
      "    /Users/zhipeng/Library/Python/3.7/lib/python/site-packages/torch/utils/data/__init__.py\n",
      "\n",
      "\n"
     ]
    }
   ],
   "source": [
    "help(Data)"
   ]
  },
  {
   "cell_type": "code",
   "execution_count": 40,
   "metadata": {},
   "outputs": [],
   "source": [
    "loader = Data.DataLoader(Data.TensorDataset(torch.FloatTensor(train_data), torch.FloatTensor(train_label)), \n",
    "                        batch_size = 5, shuffle = True)"
   ]
  },
  {
   "cell_type": "code",
   "execution_count": 1288,
   "metadata": {},
   "outputs": [],
   "source": [
    "class AttentionL2RNet(nn.Module):\n",
    "    def __init__(self):\n",
    "        super(AttentionL2RNet, self).__init__()\n",
    "        \n",
    "        self.q_h1 = nn.Linear(784, 256)\n",
    "        #self.q_h2 = nn.Linear(256, 784)\n",
    "        self.q_b = nn.LayerNorm(256)\n",
    "        self.q_h3 = nn.Linear(256, 32)\n",
    "        \n",
    "        self.v_h1 = nn.Linear(784, 256)\n",
    "        #self.v_h2 = nn.Linear(256, 784)\n",
    "        self.v_b = nn.LayerNorm(256)\n",
    "        self.v_h3 = nn.Linear(256, 32)\n",
    "        \n",
    "        self.k_h1 = nn.Linear(784, 256)\n",
    "        #self.k_h2 = nn.Linear(256, 784)\n",
    "        self.k_b = nn.LayerNorm(256)\n",
    "        self.k_h3 = nn.Linear(256, 32)\n",
    "        \n",
    "        self.h1 = nn.Linear(32, 64)\n",
    "        self.h2 = nn.Linear(64, 32)\n",
    "        self.h3 = nn.Linear(32, 1)\n",
    "        \n",
    "    def b_forward(self, x):\n",
    "        x = F.relu(self.s_1(x)) + x\n",
    "        x = self.d_1(x)\n",
    "        x = F.relu(self.s_2(x))\n",
    "        x = self.d_2(x)\n",
    "        x = self.s_3(x)\n",
    "        return F.softmax(x.view(x.size(0), x.size(1)), dim = 1)\n",
    "    \n",
    "        \n",
    "    def _get_kqv(self, inp, h1, b, h3):\n",
    "        x = F.relu(h1(inp))\n",
    "        x = b(x)\n",
    "        return h3(x)\n",
    "    \n",
    "    def _attn_code(self, x):\n",
    "        query = self._get_kqv(x, self.q_h1, self.q_b, self.q_h3)\n",
    "        value = self._get_kqv(x, self.v_h1, self.v_b, self.v_h3)\n",
    "        key = self._get_kqv(x, self.k_h1, self.k_b, self.k_h3)\n",
    "        d_k = query.size(-1)\n",
    "        scores = torch.matmul(query, key.transpose(-2, -1)) / np.sqrt(d_k)\n",
    "        attn = F.softmax(scores, dim = -1)\n",
    "        return torch.matmul(attn, value)\n",
    "        \n",
    "    def forward(self, inp):\n",
    "        inp = self._attn_code(inp)\n",
    "        #print(inp)\n",
    "        x = F.relu(self.h1(inp))\n",
    "        x = F.relu(self.h2(x)) + inp\n",
    "        x = self.h3(x)\n",
    "        #return x.view(x.shape[0], x.shape[1])\n",
    "        #return F.tanh(x.view(x.size(0), x.size(1))) / 3.0\n",
    "        return F.softmax(x.view(x.size(0), x.size(1)), dim = 1) + F.tanh(x.view(x.size(0), x.size(1))) / 3.0\n",
    "        #return F.softmax(x.view(x.size(0), x.size(1)), dim = 1) - 0.33\n",
    "        #tmp = F.tanh(x.view(x.size(0), x.size(1)))\n",
    "        #return tmp / torch.abs(tmp).sum(dim = 1).unsqueeze(1)\n",
    "        #tmp = F.softmax(x.view(x.size(0), x.size(1)), dim = 1)\n",
    "        #return tmp - tmp.mean(dim = 1).unsqueeze(1)"
   ]
  },
  {
   "cell_type": "code",
   "execution_count": 1289,
   "metadata": {},
   "outputs": [],
   "source": [
    "train_label[:, 0] = -0.01\n",
    "train_label[:, 1] = 0.02\n",
    "train_label[:, 2] = 0.05"
   ]
  },
  {
   "cell_type": "code",
   "execution_count": 1290,
   "metadata": {},
   "outputs": [],
   "source": [
    "m = AttentionL2RNet()"
   ]
  },
  {
   "cell_type": "code",
   "execution_count": 1291,
   "metadata": {},
   "outputs": [
    {
     "data": {
      "text/plain": [
       "tensor([[0.5348, 0.5419, 0.5453]], grad_fn=<AddBackward0>)"
      ]
     },
     "execution_count": 1291,
     "metadata": {},
     "output_type": "execute_result"
    }
   ],
   "source": [
    "m(torch.FloatTensor(train_data[:1]))"
   ]
  },
  {
   "cell_type": "code",
   "execution_count": 1292,
   "metadata": {},
   "outputs": [],
   "source": []
  },
  {
   "cell_type": "code",
   "execution_count": 1293,
   "metadata": {},
   "outputs": [],
   "source": [
    "optimizer = optim.Adam(m.parameters(), lr = 1e-5)\n",
    "loader = Data.DataLoader(Data.TensorDataset(torch.FloatTensor(train_data), torch.FloatTensor(train_label)), \n",
    "                        batch_size = 250, shuffle = True)"
   ]
  },
  {
   "cell_type": "code",
   "execution_count": 1299,
   "metadata": {},
   "outputs": [
    {
     "name": "stdout",
     "output_type": "stream",
     "text": [
      "tensor(-0.0228, grad_fn=<MeanBackward0>)\n",
      "tensor(-0.0230, grad_fn=<MeanBackward0>)\n",
      "tensor(-0.0227, grad_fn=<MeanBackward0>)\n",
      "tensor(-0.0230, grad_fn=<MeanBackward0>)\n",
      "tensor(-0.0232, grad_fn=<MeanBackward0>)\n",
      "tensor(-0.0229, grad_fn=<MeanBackward0>)\n",
      "tensor(-0.0228, grad_fn=<MeanBackward0>)\n",
      "tensor(-0.0224, grad_fn=<MeanBackward0>)\n",
      "tensor(-0.0233, grad_fn=<MeanBackward0>)\n",
      "tensor(-0.0231, grad_fn=<MeanBackward0>)\n",
      "tensor(-0.0226, grad_fn=<MeanBackward0>)\n",
      "tensor(-0.0233, grad_fn=<MeanBackward0>)\n",
      "tensor(-0.0229, grad_fn=<MeanBackward0>)\n",
      "tensor(-0.0232, grad_fn=<MeanBackward0>)\n",
      "tensor(-0.0232, grad_fn=<MeanBackward0>)\n",
      "tensor(-0.0228, grad_fn=<MeanBackward0>)\n",
      "tensor(-0.0226, grad_fn=<MeanBackward0>)\n",
      "tensor(-0.0233, grad_fn=<MeanBackward0>)\n",
      "tensor(-0.0231, grad_fn=<MeanBackward0>)\n",
      "tensor(-0.0232, grad_fn=<MeanBackward0>)\n",
      "tensor(-0.0232, grad_fn=<MeanBackward0>)\n",
      "tensor(-0.0229, grad_fn=<MeanBackward0>)\n",
      "tensor(-0.0233, grad_fn=<MeanBackward0>)\n",
      "tensor(-0.0229, grad_fn=<MeanBackward0>)\n",
      "tensor(-0.0231, grad_fn=<MeanBackward0>)\n",
      "tensor(-0.0232, grad_fn=<MeanBackward0>)\n",
      "tensor(-0.0228, grad_fn=<MeanBackward0>)\n",
      "tensor(-0.0231, grad_fn=<MeanBackward0>)\n",
      "tensor(-0.0235, grad_fn=<MeanBackward0>)\n",
      "tensor(-0.0230, grad_fn=<MeanBackward0>)\n",
      "tensor(-0.0228, grad_fn=<MeanBackward0>)\n",
      "tensor(-0.0233, grad_fn=<MeanBackward0>)\n",
      "tensor(-0.0231, grad_fn=<MeanBackward0>)\n",
      "tensor(-0.0231, grad_fn=<MeanBackward0>)\n",
      "tensor(-0.0232, grad_fn=<MeanBackward0>)\n",
      "tensor(-0.0230, grad_fn=<MeanBackward0>)\n",
      "tensor(-0.0232, grad_fn=<MeanBackward0>)\n",
      "tensor(-0.0233, grad_fn=<MeanBackward0>)\n",
      "tensor(-0.0229, grad_fn=<MeanBackward0>)\n",
      "tensor(-0.0230, grad_fn=<MeanBackward0>)\n",
      "tensor(-0.0234, grad_fn=<MeanBackward0>)\n",
      "tensor(-0.0232, grad_fn=<MeanBackward0>)\n",
      "tensor(-0.0232, grad_fn=<MeanBackward0>)\n",
      "tensor(-0.0233, grad_fn=<MeanBackward0>)\n",
      "tensor(-0.0232, grad_fn=<MeanBackward0>)\n",
      "tensor(-0.0232, grad_fn=<MeanBackward0>)\n",
      "tensor(-0.0228, grad_fn=<MeanBackward0>)\n",
      "tensor(-0.0234, grad_fn=<MeanBackward0>)\n",
      "tensor(-0.0230, grad_fn=<MeanBackward0>)\n",
      "tensor(-0.0235, grad_fn=<MeanBackward0>)\n",
      "tensor(-0.0231, grad_fn=<MeanBackward0>)\n",
      "tensor(-0.0235, grad_fn=<MeanBackward0>)\n",
      "tensor(-0.0229, grad_fn=<MeanBackward0>)\n",
      "tensor(-0.0231, grad_fn=<MeanBackward0>)\n",
      "tensor(-0.0233, grad_fn=<MeanBackward0>)\n",
      "tensor(-0.0233, grad_fn=<MeanBackward0>)\n",
      "tensor(-0.0231, grad_fn=<MeanBackward0>)\n",
      "tensor(-0.0232, grad_fn=<MeanBackward0>)\n",
      "tensor(-0.0235, grad_fn=<MeanBackward0>)\n",
      "tensor(-0.0234, grad_fn=<MeanBackward0>)\n",
      "tensor(-0.0230, grad_fn=<MeanBackward0>)\n",
      "tensor(-0.0231, grad_fn=<MeanBackward0>)\n",
      "tensor(-0.0233, grad_fn=<MeanBackward0>)\n",
      "tensor(-0.0233, grad_fn=<MeanBackward0>)\n",
      "tensor(-0.0235, grad_fn=<MeanBackward0>)\n",
      "tensor(-0.0233, grad_fn=<MeanBackward0>)\n",
      "tensor(-0.0235, grad_fn=<MeanBackward0>)\n",
      "tensor(-0.0233, grad_fn=<MeanBackward0>)\n",
      "tensor(-0.0231, grad_fn=<MeanBackward0>)\n",
      "tensor(-0.0232, grad_fn=<MeanBackward0>)\n",
      "tensor(-0.0232, grad_fn=<MeanBackward0>)\n",
      "tensor(-0.0239, grad_fn=<MeanBackward0>)\n",
      "tensor(-0.0235, grad_fn=<MeanBackward0>)\n",
      "tensor(-0.0235, grad_fn=<MeanBackward0>)\n",
      "tensor(-0.0233, grad_fn=<MeanBackward0>)\n",
      "tensor(-0.0233, grad_fn=<MeanBackward0>)\n",
      "tensor(-0.0233, grad_fn=<MeanBackward0>)\n",
      "tensor(-0.0234, grad_fn=<MeanBackward0>)\n",
      "tensor(-0.0232, grad_fn=<MeanBackward0>)\n",
      "tensor(-0.0234, grad_fn=<MeanBackward0>)\n",
      "tensor(-0.0233, grad_fn=<MeanBackward0>)\n",
      "tensor(-0.0232, grad_fn=<MeanBackward0>)\n",
      "tensor(-0.0232, grad_fn=<MeanBackward0>)\n",
      "tensor(-0.0232, grad_fn=<MeanBackward0>)\n",
      "tensor(-0.0231, grad_fn=<MeanBackward0>)\n",
      "tensor(-0.0235, grad_fn=<MeanBackward0>)\n",
      "tensor(-0.0235, grad_fn=<MeanBackward0>)\n",
      "tensor(-0.0233, grad_fn=<MeanBackward0>)\n",
      "tensor(-0.0232, grad_fn=<MeanBackward0>)\n",
      "tensor(-0.0232, grad_fn=<MeanBackward0>)\n",
      "tensor(-0.0239, grad_fn=<MeanBackward0>)\n",
      "tensor(-0.0235, grad_fn=<MeanBackward0>)\n",
      "tensor(-0.0235, grad_fn=<MeanBackward0>)\n",
      "tensor(-0.0235, grad_fn=<MeanBackward0>)\n",
      "tensor(-0.0235, grad_fn=<MeanBackward0>)\n",
      "tensor(-0.0236, grad_fn=<MeanBackward0>)\n",
      "tensor(-0.0236, grad_fn=<MeanBackward0>)\n",
      "tensor(-0.0235, grad_fn=<MeanBackward0>)\n",
      "tensor(-0.0233, grad_fn=<MeanBackward0>)\n",
      "tensor(-0.0233, grad_fn=<MeanBackward0>)\n",
      "tensor(-0.0235, grad_fn=<MeanBackward0>)\n",
      "tensor(-0.0235, grad_fn=<MeanBackward0>)\n",
      "tensor(-0.0232, grad_fn=<MeanBackward0>)\n",
      "tensor(-0.0234, grad_fn=<MeanBackward0>)\n",
      "tensor(-0.0234, grad_fn=<MeanBackward0>)\n",
      "tensor(-0.0233, grad_fn=<MeanBackward0>)\n",
      "tensor(-0.0236, grad_fn=<MeanBackward0>)\n",
      "tensor(-0.0235, grad_fn=<MeanBackward0>)\n",
      "tensor(-0.0233, grad_fn=<MeanBackward0>)\n",
      "tensor(-0.0234, grad_fn=<MeanBackward0>)\n",
      "tensor(-0.0239, grad_fn=<MeanBackward0>)\n",
      "tensor(-0.0238, grad_fn=<MeanBackward0>)\n",
      "tensor(-0.0235, grad_fn=<MeanBackward0>)\n",
      "tensor(-0.0235, grad_fn=<MeanBackward0>)\n",
      "tensor(-0.0236, grad_fn=<MeanBackward0>)\n",
      "tensor(-0.0235, grad_fn=<MeanBackward0>)\n",
      "tensor(-0.0233, grad_fn=<MeanBackward0>)\n",
      "tensor(-0.0235, grad_fn=<MeanBackward0>)\n",
      "tensor(-0.0236, grad_fn=<MeanBackward0>)\n",
      "tensor(-0.0238, grad_fn=<MeanBackward0>)\n",
      "tensor(-0.0235, grad_fn=<MeanBackward0>)\n",
      "tensor(-0.0236, grad_fn=<MeanBackward0>)\n",
      "tensor(-0.0234, grad_fn=<MeanBackward0>)\n",
      "tensor(-0.0236, grad_fn=<MeanBackward0>)\n",
      "tensor(-0.0236, grad_fn=<MeanBackward0>)\n",
      "tensor(-0.0235, grad_fn=<MeanBackward0>)\n",
      "tensor(-0.0237, grad_fn=<MeanBackward0>)\n",
      "tensor(-0.0239, grad_fn=<MeanBackward0>)\n",
      "tensor(-0.0235, grad_fn=<MeanBackward0>)\n",
      "tensor(-0.0235, grad_fn=<MeanBackward0>)\n",
      "tensor(-0.0236, grad_fn=<MeanBackward0>)\n",
      "tensor(-0.0235, grad_fn=<MeanBackward0>)\n",
      "tensor(-0.0237, grad_fn=<MeanBackward0>)\n",
      "tensor(-0.0234, grad_fn=<MeanBackward0>)\n",
      "tensor(-0.0237, grad_fn=<MeanBackward0>)\n",
      "tensor(-0.0236, grad_fn=<MeanBackward0>)\n",
      "tensor(-0.0236, grad_fn=<MeanBackward0>)\n",
      "tensor(-0.0236, grad_fn=<MeanBackward0>)\n",
      "tensor(-0.0236, grad_fn=<MeanBackward0>)\n",
      "tensor(-0.0236, grad_fn=<MeanBackward0>)\n",
      "tensor(-0.0236, grad_fn=<MeanBackward0>)\n",
      "tensor(-0.0236, grad_fn=<MeanBackward0>)\n",
      "tensor(-0.0238, grad_fn=<MeanBackward0>)\n",
      "tensor(-0.0238, grad_fn=<MeanBackward0>)\n",
      "tensor(-0.0237, grad_fn=<MeanBackward0>)\n",
      "tensor(-0.0235, grad_fn=<MeanBackward0>)\n",
      "tensor(-0.0239, grad_fn=<MeanBackward0>)\n",
      "tensor(-0.0235, grad_fn=<MeanBackward0>)\n",
      "tensor(-0.0237, grad_fn=<MeanBackward0>)\n",
      "tensor(-0.0236, grad_fn=<MeanBackward0>)\n",
      "tensor(-0.0236, grad_fn=<MeanBackward0>)\n",
      "tensor(-0.0238, grad_fn=<MeanBackward0>)\n",
      "tensor(-0.0236, grad_fn=<MeanBackward0>)\n",
      "tensor(-0.0235, grad_fn=<MeanBackward0>)\n",
      "tensor(-0.0238, grad_fn=<MeanBackward0>)\n",
      "tensor(-0.0238, grad_fn=<MeanBackward0>)\n",
      "tensor(-0.0240, grad_fn=<MeanBackward0>)\n",
      "tensor(-0.0240, grad_fn=<MeanBackward0>)\n",
      "tensor(-0.0234, grad_fn=<MeanBackward0>)\n",
      "tensor(-0.0237, grad_fn=<MeanBackward0>)\n",
      "tensor(-0.0236, grad_fn=<MeanBackward0>)\n",
      "tensor(-0.0237, grad_fn=<MeanBackward0>)\n",
      "tensor(-0.0238, grad_fn=<MeanBackward0>)\n",
      "tensor(-0.0235, grad_fn=<MeanBackward0>)\n",
      "tensor(-0.0238, grad_fn=<MeanBackward0>)\n",
      "tensor(-0.0236, grad_fn=<MeanBackward0>)\n",
      "tensor(-0.0237, grad_fn=<MeanBackward0>)\n",
      "tensor(-0.0241, grad_fn=<MeanBackward0>)\n",
      "tensor(-0.0239, grad_fn=<MeanBackward0>)\n",
      "tensor(-0.0237, grad_fn=<MeanBackward0>)\n",
      "tensor(-0.0238, grad_fn=<MeanBackward0>)\n",
      "tensor(-0.0238, grad_fn=<MeanBackward0>)\n",
      "tensor(-0.0238, grad_fn=<MeanBackward0>)\n",
      "tensor(-0.0235, grad_fn=<MeanBackward0>)\n",
      "tensor(-0.0237, grad_fn=<MeanBackward0>)\n",
      "tensor(-0.0236, grad_fn=<MeanBackward0>)\n",
      "tensor(-0.0238, grad_fn=<MeanBackward0>)\n",
      "tensor(-0.0234, grad_fn=<MeanBackward0>)\n",
      "tensor(-0.0237, grad_fn=<MeanBackward0>)\n",
      "tensor(-0.0239, grad_fn=<MeanBackward0>)\n",
      "tensor(-0.0238, grad_fn=<MeanBackward0>)\n",
      "tensor(-0.0239, grad_fn=<MeanBackward0>)\n",
      "tensor(-0.0238, grad_fn=<MeanBackward0>)\n",
      "tensor(-0.0239, grad_fn=<MeanBackward0>)\n",
      "tensor(-0.0240, grad_fn=<MeanBackward0>)\n",
      "tensor(-0.0238, grad_fn=<MeanBackward0>)\n",
      "tensor(-0.0240, grad_fn=<MeanBackward0>)\n",
      "tensor(-0.0237, grad_fn=<MeanBackward0>)\n",
      "tensor(-0.0239, grad_fn=<MeanBackward0>)\n",
      "tensor(-0.0239, grad_fn=<MeanBackward0>)\n",
      "tensor(-0.0237, grad_fn=<MeanBackward0>)\n",
      "tensor(-0.0238, grad_fn=<MeanBackward0>)\n",
      "tensor(-0.0241, grad_fn=<MeanBackward0>)\n",
      "tensor(-0.0236, grad_fn=<MeanBackward0>)\n",
      "tensor(-0.0240, grad_fn=<MeanBackward0>)\n",
      "tensor(-0.0238, grad_fn=<MeanBackward0>)\n",
      "tensor(-0.0238, grad_fn=<MeanBackward0>)\n",
      "tensor(-0.0237, grad_fn=<MeanBackward0>)\n",
      "tensor(-0.0238, grad_fn=<MeanBackward0>)\n",
      "tensor(-0.0235, grad_fn=<MeanBackward0>)\n"
     ]
    },
    {
     "name": "stdout",
     "output_type": "stream",
     "text": [
      "tensor(-0.0239, grad_fn=<MeanBackward0>)\n",
      "tensor(-0.0238, grad_fn=<MeanBackward0>)\n",
      "tensor(-0.0238, grad_fn=<MeanBackward0>)\n",
      "tensor(-0.0240, grad_fn=<MeanBackward0>)\n",
      "tensor(-0.0240, grad_fn=<MeanBackward0>)\n",
      "tensor(-0.0238, grad_fn=<MeanBackward0>)\n",
      "tensor(-0.0240, grad_fn=<MeanBackward0>)\n",
      "tensor(-0.0240, grad_fn=<MeanBackward0>)\n",
      "tensor(-0.0240, grad_fn=<MeanBackward0>)\n",
      "tensor(-0.0242, grad_fn=<MeanBackward0>)\n",
      "tensor(-0.0239, grad_fn=<MeanBackward0>)\n",
      "tensor(-0.0237, grad_fn=<MeanBackward0>)\n",
      "tensor(-0.0238, grad_fn=<MeanBackward0>)\n",
      "tensor(-0.0240, grad_fn=<MeanBackward0>)\n",
      "tensor(-0.0239, grad_fn=<MeanBackward0>)\n",
      "tensor(-0.0239, grad_fn=<MeanBackward0>)\n",
      "tensor(-0.0240, grad_fn=<MeanBackward0>)\n",
      "tensor(-0.0240, grad_fn=<MeanBackward0>)\n",
      "tensor(-0.0238, grad_fn=<MeanBackward0>)\n",
      "tensor(-0.0236, grad_fn=<MeanBackward0>)\n",
      "tensor(-0.0241, grad_fn=<MeanBackward0>)\n",
      "tensor(-0.0241, grad_fn=<MeanBackward0>)\n",
      "tensor(-0.0237, grad_fn=<MeanBackward0>)\n",
      "tensor(-0.0235, grad_fn=<MeanBackward0>)\n",
      "tensor(-0.0239, grad_fn=<MeanBackward0>)\n",
      "tensor(-0.0241, grad_fn=<MeanBackward0>)\n",
      "tensor(-0.0240, grad_fn=<MeanBackward0>)\n",
      "tensor(-0.0241, grad_fn=<MeanBackward0>)\n",
      "tensor(-0.0236, grad_fn=<MeanBackward0>)\n",
      "tensor(-0.0241, grad_fn=<MeanBackward0>)\n",
      "tensor(-0.0241, grad_fn=<MeanBackward0>)\n",
      "tensor(-0.0240, grad_fn=<MeanBackward0>)\n",
      "tensor(-0.0241, grad_fn=<MeanBackward0>)\n",
      "tensor(-0.0238, grad_fn=<MeanBackward0>)\n",
      "tensor(-0.0238, grad_fn=<MeanBackward0>)\n",
      "tensor(-0.0241, grad_fn=<MeanBackward0>)\n",
      "tensor(-0.0241, grad_fn=<MeanBackward0>)\n",
      "tensor(-0.0240, grad_fn=<MeanBackward0>)\n",
      "tensor(-0.0240, grad_fn=<MeanBackward0>)\n",
      "tensor(-0.0239, grad_fn=<MeanBackward0>)\n",
      "tensor(-0.0238, grad_fn=<MeanBackward0>)\n",
      "tensor(-0.0240, grad_fn=<MeanBackward0>)\n",
      "tensor(-0.0239, grad_fn=<MeanBackward0>)\n",
      "tensor(-0.0241, grad_fn=<MeanBackward0>)\n",
      "tensor(-0.0241, grad_fn=<MeanBackward0>)\n",
      "tensor(-0.0238, grad_fn=<MeanBackward0>)\n",
      "tensor(-0.0237, grad_fn=<MeanBackward0>)\n",
      "tensor(-0.0242, grad_fn=<MeanBackward0>)\n",
      "tensor(-0.0240, grad_fn=<MeanBackward0>)\n",
      "tensor(-0.0241, grad_fn=<MeanBackward0>)\n",
      "tensor(-0.0237, grad_fn=<MeanBackward0>)\n",
      "tensor(-0.0241, grad_fn=<MeanBackward0>)\n",
      "tensor(-0.0241, grad_fn=<MeanBackward0>)\n",
      "tensor(-0.0242, grad_fn=<MeanBackward0>)\n",
      "tensor(-0.0241, grad_fn=<MeanBackward0>)\n",
      "tensor(-0.0242, grad_fn=<MeanBackward0>)\n",
      "tensor(-0.0241, grad_fn=<MeanBackward0>)\n",
      "tensor(-0.0242, grad_fn=<MeanBackward0>)\n",
      "tensor(-0.0238, grad_fn=<MeanBackward0>)\n",
      "tensor(-0.0240, grad_fn=<MeanBackward0>)\n",
      "tensor(-0.0241, grad_fn=<MeanBackward0>)\n",
      "tensor(-0.0239, grad_fn=<MeanBackward0>)\n",
      "tensor(-0.0240, grad_fn=<MeanBackward0>)\n",
      "tensor(-0.0241, grad_fn=<MeanBackward0>)\n",
      "tensor(-0.0243, grad_fn=<MeanBackward0>)\n",
      "tensor(-0.0239, grad_fn=<MeanBackward0>)\n",
      "tensor(-0.0242, grad_fn=<MeanBackward0>)\n",
      "tensor(-0.0238, grad_fn=<MeanBackward0>)\n",
      "tensor(-0.0242, grad_fn=<MeanBackward0>)\n",
      "tensor(-0.0240, grad_fn=<MeanBackward0>)\n",
      "tensor(-0.0241, grad_fn=<MeanBackward0>)\n",
      "tensor(-0.0240, grad_fn=<MeanBackward0>)\n",
      "tensor(-0.0241, grad_fn=<MeanBackward0>)\n",
      "tensor(-0.0242, grad_fn=<MeanBackward0>)\n",
      "tensor(-0.0240, grad_fn=<MeanBackward0>)\n",
      "tensor(-0.0242, grad_fn=<MeanBackward0>)\n",
      "tensor(-0.0240, grad_fn=<MeanBackward0>)\n",
      "tensor(-0.0238, grad_fn=<MeanBackward0>)\n",
      "tensor(-0.0241, grad_fn=<MeanBackward0>)\n",
      "tensor(-0.0243, grad_fn=<MeanBackward0>)\n",
      "tensor(-0.0241, grad_fn=<MeanBackward0>)\n",
      "tensor(-0.0239, grad_fn=<MeanBackward0>)\n",
      "tensor(-0.0241, grad_fn=<MeanBackward0>)\n",
      "tensor(-0.0242, grad_fn=<MeanBackward0>)\n",
      "tensor(-0.0242, grad_fn=<MeanBackward0>)\n",
      "tensor(-0.0242, grad_fn=<MeanBackward0>)\n",
      "tensor(-0.0241, grad_fn=<MeanBackward0>)\n",
      "tensor(-0.0242, grad_fn=<MeanBackward0>)\n",
      "tensor(-0.0239, grad_fn=<MeanBackward0>)\n",
      "tensor(-0.0243, grad_fn=<MeanBackward0>)\n",
      "tensor(-0.0239, grad_fn=<MeanBackward0>)\n",
      "tensor(-0.0241, grad_fn=<MeanBackward0>)\n",
      "tensor(-0.0245, grad_fn=<MeanBackward0>)\n",
      "tensor(-0.0241, grad_fn=<MeanBackward0>)\n",
      "tensor(-0.0239, grad_fn=<MeanBackward0>)\n",
      "tensor(-0.0241, grad_fn=<MeanBackward0>)\n",
      "tensor(-0.0242, grad_fn=<MeanBackward0>)\n",
      "tensor(-0.0240, grad_fn=<MeanBackward0>)\n",
      "tensor(-0.0243, grad_fn=<MeanBackward0>)\n",
      "tensor(-0.0240, grad_fn=<MeanBackward0>)\n",
      "tensor(-0.0243, grad_fn=<MeanBackward0>)\n",
      "tensor(-0.0241, grad_fn=<MeanBackward0>)\n",
      "tensor(-0.0244, grad_fn=<MeanBackward0>)\n",
      "tensor(-0.0241, grad_fn=<MeanBackward0>)\n",
      "tensor(-0.0243, grad_fn=<MeanBackward0>)\n",
      "tensor(-0.0241, grad_fn=<MeanBackward0>)\n",
      "tensor(-0.0241, grad_fn=<MeanBackward0>)\n",
      "tensor(-0.0242, grad_fn=<MeanBackward0>)\n",
      "tensor(-0.0241, grad_fn=<MeanBackward0>)\n",
      "tensor(-0.0241, grad_fn=<MeanBackward0>)\n",
      "tensor(-0.0243, grad_fn=<MeanBackward0>)\n",
      "tensor(-0.0240, grad_fn=<MeanBackward0>)\n",
      "tensor(-0.0243, grad_fn=<MeanBackward0>)\n",
      "tensor(-0.0242, grad_fn=<MeanBackward0>)\n",
      "tensor(-0.0242, grad_fn=<MeanBackward0>)\n",
      "tensor(-0.0241, grad_fn=<MeanBackward0>)\n",
      "tensor(-0.0242, grad_fn=<MeanBackward0>)\n",
      "tensor(-0.0240, grad_fn=<MeanBackward0>)\n",
      "tensor(-0.0240, grad_fn=<MeanBackward0>)\n",
      "tensor(-0.0243, grad_fn=<MeanBackward0>)\n",
      "tensor(-0.0243, grad_fn=<MeanBackward0>)\n",
      "tensor(-0.0241, grad_fn=<MeanBackward0>)\n",
      "tensor(-0.0240, grad_fn=<MeanBackward0>)\n",
      "tensor(-0.0243, grad_fn=<MeanBackward0>)\n",
      "tensor(-0.0241, grad_fn=<MeanBackward0>)\n",
      "tensor(-0.0245, grad_fn=<MeanBackward0>)\n",
      "tensor(-0.0243, grad_fn=<MeanBackward0>)\n",
      "tensor(-0.0242, grad_fn=<MeanBackward0>)\n",
      "tensor(-0.0242, grad_fn=<MeanBackward0>)\n",
      "tensor(-0.0242, grad_fn=<MeanBackward0>)\n",
      "tensor(-0.0242, grad_fn=<MeanBackward0>)\n",
      "tensor(-0.0242, grad_fn=<MeanBackward0>)\n",
      "tensor(-0.0242, grad_fn=<MeanBackward0>)\n",
      "tensor(-0.0244, grad_fn=<MeanBackward0>)\n",
      "tensor(-0.0242, grad_fn=<MeanBackward0>)\n",
      "tensor(-0.0243, grad_fn=<MeanBackward0>)\n",
      "tensor(-0.0240, grad_fn=<MeanBackward0>)\n",
      "tensor(-0.0243, grad_fn=<MeanBackward0>)\n",
      "tensor(-0.0243, grad_fn=<MeanBackward0>)\n",
      "tensor(-0.0244, grad_fn=<MeanBackward0>)\n",
      "tensor(-0.0242, grad_fn=<MeanBackward0>)\n",
      "tensor(-0.0242, grad_fn=<MeanBackward0>)\n",
      "tensor(-0.0242, grad_fn=<MeanBackward0>)\n",
      "tensor(-0.0243, grad_fn=<MeanBackward0>)\n",
      "tensor(-0.0243, grad_fn=<MeanBackward0>)\n",
      "tensor(-0.0242, grad_fn=<MeanBackward0>)\n",
      "tensor(-0.0240, grad_fn=<MeanBackward0>)\n",
      "tensor(-0.0242, grad_fn=<MeanBackward0>)\n",
      "tensor(-0.0244, grad_fn=<MeanBackward0>)\n",
      "tensor(-0.0242, grad_fn=<MeanBackward0>)\n",
      "tensor(-0.0243, grad_fn=<MeanBackward0>)\n",
      "tensor(-0.0243, grad_fn=<MeanBackward0>)\n",
      "tensor(-0.0244, grad_fn=<MeanBackward0>)\n",
      "tensor(-0.0244, grad_fn=<MeanBackward0>)\n",
      "tensor(-0.0242, grad_fn=<MeanBackward0>)\n",
      "tensor(-0.0243, grad_fn=<MeanBackward0>)\n",
      "tensor(-0.0242, grad_fn=<MeanBackward0>)\n",
      "tensor(-0.0244, grad_fn=<MeanBackward0>)\n",
      "tensor(-0.0242, grad_fn=<MeanBackward0>)\n",
      "tensor(-0.0246, grad_fn=<MeanBackward0>)\n",
      "tensor(-0.0243, grad_fn=<MeanBackward0>)\n",
      "tensor(-0.0244, grad_fn=<MeanBackward0>)\n",
      "tensor(-0.0244, grad_fn=<MeanBackward0>)\n",
      "tensor(-0.0241, grad_fn=<MeanBackward0>)\n",
      "tensor(-0.0242, grad_fn=<MeanBackward0>)\n",
      "tensor(-0.0243, grad_fn=<MeanBackward0>)\n",
      "tensor(-0.0243, grad_fn=<MeanBackward0>)\n",
      "tensor(-0.0244, grad_fn=<MeanBackward0>)\n",
      "tensor(-0.0244, grad_fn=<MeanBackward0>)\n",
      "tensor(-0.0244, grad_fn=<MeanBackward0>)\n",
      "tensor(-0.0245, grad_fn=<MeanBackward0>)\n",
      "tensor(-0.0243, grad_fn=<MeanBackward0>)\n",
      "tensor(-0.0243, grad_fn=<MeanBackward0>)\n",
      "tensor(-0.0242, grad_fn=<MeanBackward0>)\n",
      "tensor(-0.0244, grad_fn=<MeanBackward0>)\n",
      "tensor(-0.0243, grad_fn=<MeanBackward0>)\n",
      "tensor(-0.0243, grad_fn=<MeanBackward0>)\n",
      "tensor(-0.0245, grad_fn=<MeanBackward0>)\n",
      "tensor(-0.0243, grad_fn=<MeanBackward0>)\n",
      "tensor(-0.0243, grad_fn=<MeanBackward0>)\n",
      "tensor(-0.0243, grad_fn=<MeanBackward0>)\n",
      "tensor(-0.0242, grad_fn=<MeanBackward0>)\n",
      "tensor(-0.0243, grad_fn=<MeanBackward0>)\n",
      "tensor(-0.0239, grad_fn=<MeanBackward0>)\n",
      "tensor(-0.0244, grad_fn=<MeanBackward0>)\n",
      "tensor(-0.0244, grad_fn=<MeanBackward0>)\n",
      "tensor(-0.0244, grad_fn=<MeanBackward0>)\n",
      "tensor(-0.0245, grad_fn=<MeanBackward0>)\n",
      "tensor(-0.0243, grad_fn=<MeanBackward0>)\n",
      "tensor(-0.0242, grad_fn=<MeanBackward0>)\n",
      "tensor(-0.0243, grad_fn=<MeanBackward0>)\n",
      "tensor(-0.0244, grad_fn=<MeanBackward0>)\n",
      "tensor(-0.0243, grad_fn=<MeanBackward0>)\n",
      "tensor(-0.0244, grad_fn=<MeanBackward0>)\n",
      "tensor(-0.0244, grad_fn=<MeanBackward0>)\n",
      "tensor(-0.0244, grad_fn=<MeanBackward0>)\n",
      "tensor(-0.0241, grad_fn=<MeanBackward0>)\n",
      "tensor(-0.0244, grad_fn=<MeanBackward0>)\n",
      "tensor(-0.0245, grad_fn=<MeanBackward0>)\n",
      "tensor(-0.0243, grad_fn=<MeanBackward0>)\n",
      "tensor(-0.0243, grad_fn=<MeanBackward0>)\n"
     ]
    },
    {
     "name": "stdout",
     "output_type": "stream",
     "text": [
      "tensor(-0.0243, grad_fn=<MeanBackward0>)\n",
      "tensor(-0.0244, grad_fn=<MeanBackward0>)\n",
      "tensor(-0.0242, grad_fn=<MeanBackward0>)\n",
      "tensor(-0.0243, grad_fn=<MeanBackward0>)\n",
      "tensor(-0.0247, grad_fn=<MeanBackward0>)\n",
      "tensor(-0.0246, grad_fn=<MeanBackward0>)\n",
      "tensor(-0.0245, grad_fn=<MeanBackward0>)\n",
      "tensor(-0.0244, grad_fn=<MeanBackward0>)\n",
      "tensor(-0.0244, grad_fn=<MeanBackward0>)\n",
      "tensor(-0.0246, grad_fn=<MeanBackward0>)\n",
      "tensor(-0.0245, grad_fn=<MeanBackward0>)\n",
      "tensor(-0.0244, grad_fn=<MeanBackward0>)\n",
      "tensor(-0.0244, grad_fn=<MeanBackward0>)\n",
      "tensor(-0.0246, grad_fn=<MeanBackward0>)\n",
      "tensor(-0.0243, grad_fn=<MeanBackward0>)\n",
      "tensor(-0.0245, grad_fn=<MeanBackward0>)\n",
      "tensor(-0.0242, grad_fn=<MeanBackward0>)\n",
      "tensor(-0.0244, grad_fn=<MeanBackward0>)\n",
      "tensor(-0.0244, grad_fn=<MeanBackward0>)\n",
      "tensor(-0.0241, grad_fn=<MeanBackward0>)\n",
      "tensor(-0.0243, grad_fn=<MeanBackward0>)\n",
      "tensor(-0.0245, grad_fn=<MeanBackward0>)\n",
      "tensor(-0.0244, grad_fn=<MeanBackward0>)\n",
      "tensor(-0.0244, grad_fn=<MeanBackward0>)\n",
      "tensor(-0.0243, grad_fn=<MeanBackward0>)\n",
      "tensor(-0.0244, grad_fn=<MeanBackward0>)\n",
      "tensor(-0.0246, grad_fn=<MeanBackward0>)\n",
      "tensor(-0.0245, grad_fn=<MeanBackward0>)\n",
      "tensor(-0.0245, grad_fn=<MeanBackward0>)\n",
      "tensor(-0.0243, grad_fn=<MeanBackward0>)\n",
      "tensor(-0.0242, grad_fn=<MeanBackward0>)\n",
      "tensor(-0.0247, grad_fn=<MeanBackward0>)\n",
      "tensor(-0.0246, grad_fn=<MeanBackward0>)\n",
      "tensor(-0.0242, grad_fn=<MeanBackward0>)\n",
      "tensor(-0.0245, grad_fn=<MeanBackward0>)\n",
      "tensor(-0.0244, grad_fn=<MeanBackward0>)\n",
      "tensor(-0.0245, grad_fn=<MeanBackward0>)\n",
      "tensor(-0.0243, grad_fn=<MeanBackward0>)\n",
      "tensor(-0.0246, grad_fn=<MeanBackward0>)\n",
      "tensor(-0.0241, grad_fn=<MeanBackward0>)\n",
      "tensor(-0.0246, grad_fn=<MeanBackward0>)\n",
      "tensor(-0.0245, grad_fn=<MeanBackward0>)\n",
      "tensor(-0.0245, grad_fn=<MeanBackward0>)\n",
      "tensor(-0.0246, grad_fn=<MeanBackward0>)\n",
      "tensor(-0.0244, grad_fn=<MeanBackward0>)\n",
      "tensor(-0.0245, grad_fn=<MeanBackward0>)\n",
      "tensor(-0.0245, grad_fn=<MeanBackward0>)\n",
      "tensor(-0.0244, grad_fn=<MeanBackward0>)\n",
      "tensor(-0.0245, grad_fn=<MeanBackward0>)\n",
      "tensor(-0.0245, grad_fn=<MeanBackward0>)\n",
      "tensor(-0.0245, grad_fn=<MeanBackward0>)\n",
      "tensor(-0.0243, grad_fn=<MeanBackward0>)\n",
      "tensor(-0.0244, grad_fn=<MeanBackward0>)\n",
      "tensor(-0.0245, grad_fn=<MeanBackward0>)\n",
      "tensor(-0.0243, grad_fn=<MeanBackward0>)\n",
      "tensor(-0.0245, grad_fn=<MeanBackward0>)\n",
      "tensor(-0.0246, grad_fn=<MeanBackward0>)\n",
      "tensor(-0.0243, grad_fn=<MeanBackward0>)\n",
      "tensor(-0.0245, grad_fn=<MeanBackward0>)\n",
      "tensor(-0.0244, grad_fn=<MeanBackward0>)\n",
      "tensor(-0.0245, grad_fn=<MeanBackward0>)\n",
      "tensor(-0.0243, grad_fn=<MeanBackward0>)\n",
      "tensor(-0.0246, grad_fn=<MeanBackward0>)\n",
      "tensor(-0.0245, grad_fn=<MeanBackward0>)\n",
      "tensor(-0.0244, grad_fn=<MeanBackward0>)\n",
      "tensor(-0.0245, grad_fn=<MeanBackward0>)\n",
      "tensor(-0.0245, grad_fn=<MeanBackward0>)\n",
      "tensor(-0.0244, grad_fn=<MeanBackward0>)\n",
      "tensor(-0.0244, grad_fn=<MeanBackward0>)\n",
      "tensor(-0.0245, grad_fn=<MeanBackward0>)\n",
      "tensor(-0.0245, grad_fn=<MeanBackward0>)\n",
      "tensor(-0.0244, grad_fn=<MeanBackward0>)\n",
      "tensor(-0.0246, grad_fn=<MeanBackward0>)\n",
      "tensor(-0.0246, grad_fn=<MeanBackward0>)\n",
      "tensor(-0.0246, grad_fn=<MeanBackward0>)\n",
      "tensor(-0.0245, grad_fn=<MeanBackward0>)\n",
      "tensor(-0.0246, grad_fn=<MeanBackward0>)\n",
      "tensor(-0.0246, grad_fn=<MeanBackward0>)\n",
      "tensor(-0.0247, grad_fn=<MeanBackward0>)\n"
     ]
    }
   ],
   "source": [
    "for _ in range(20):\n",
    "    for _, (x, y) in enumerate(loader):\n",
    "        \n",
    "        x, y = Variable(x), Variable(y)\n",
    "        oup = m(x)\n",
    "        loss = torch.mean(-y * oup)\n",
    "        #loss = torch.mean((y - oup) ** 2)\n",
    "        print(loss)\n",
    "\n",
    "        optimizer.zero_grad()\n",
    "        loss.backward()\n",
    "        optimizer.step()\n"
   ]
  },
  {
   "cell_type": "code",
   "execution_count": 1300,
   "metadata": {},
   "outputs": [],
   "source": [
    "result = m(Variable(torch.FloatTensor(test_data))).detach().numpy()"
   ]
  },
  {
   "cell_type": "code",
   "execution_count": 1301,
   "metadata": {},
   "outputs": [],
   "source": [
    "import seaborn as sns"
   ]
  },
  {
   "cell_type": "code",
   "execution_count": 1302,
   "metadata": {},
   "outputs": [
    {
     "data": {
      "text/plain": [
       "<matplotlib.axes._subplots.AxesSubplot at 0x140a0c050>"
      ]
     },
     "execution_count": 1302,
     "metadata": {},
     "output_type": "execute_result"
    },
    {
     "data": {
      "image/png": "[encoded data removed]",
      "text/plain": [
       "<Figure size 432x288 with 1 Axes>"
      ]
     },
     "metadata": {
      "needs_background": "light"
     },
     "output_type": "display_data"
    }
   ],
   "source": [
    "sns.distplot(result[:, 0])\n",
    "sns.distplot(result[:, 1])\n",
    "sns.distplot(result[:, 2])"
   ]
  },
  {
   "cell_type": "code",
   "execution_count": 1303,
   "metadata": {},
   "outputs": [
    {
     "data": {
      "text/plain": [
       "916"
      ]
     },
     "execution_count": 1303,
     "metadata": {},
     "output_type": "execute_result"
    }
   ],
   "source": [
    "np.count_nonzero((result[:, 1] > result[:, 0]) & (result[:, 2] > result[:, 1]))"
   ]
  },
  {
   "cell_type": "code",
   "execution_count": 1211,
   "metadata": {},
   "outputs": [
    {
     "data": {
      "text/plain": [
       "(974, 3)"
      ]
     },
     "execution_count": 1211,
     "metadata": {},
     "output_type": "execute_result"
    }
   ],
   "source": [
    "result.shape"
   ]
  },
  {
   "cell_type": "code",
   "execution_count": 1,
   "metadata": {},
   "outputs": [],
   "source": [
    "from signal_l.data_reader_writer import *"
   ]
  },
  {
   "cell_type": "code",
   "execution_count": 2,
   "metadata": {},
   "outputs": [],
   "source": [
    "import pandas as pd"
   ]
  },
  {
   "cell_type": "code",
   "execution_count": 3,
   "metadata": {},
   "outputs": [],
   "source": [
    "df = pd.DataFrame([{'id': 'a', 'product': 'b', 'the_date': 'c',\n",
    "                   'side': 'b', 'data_type': 'd', 'data_content': 'e'\n",
    "                   }])"
   ]
  },
  {
   "cell_type": "code",
   "execution_count": 4,
   "metadata": {},
   "outputs": [
    {
     "data": {
      "text/html": [
       "<div>\n",
       "<style scoped>\n",
       "    .dataframe tbody tr th:only-of-type {\n",
       "        vertical-align: middle;\n",
       "    }\n",
       "\n",
       "    .dataframe tbody tr th {\n",
       "        vertical-align: top;\n",
       "    }\n",
       "\n",
       "    .dataframe thead th {\n",
       "        text-align: right;\n",
       "    }\n",
       "</style>\n",
       "<table border=\"1\" class=\"dataframe\">\n",
       "  <thead>\n",
       "    <tr style=\"text-align: right;\">\n",
       "      <th></th>\n",
       "      <th>id</th>\n",
       "      <th>product</th>\n",
       "      <th>the_date</th>\n",
       "      <th>side</th>\n",
       "      <th>data_type</th>\n",
       "      <th>data_content</th>\n",
       "    </tr>\n",
       "  </thead>\n",
       "  <tbody>\n",
       "    <tr>\n",
       "      <th>0</th>\n",
       "      <td>a</td>\n",
       "      <td>b</td>\n",
       "      <td>c</td>\n",
       "      <td>b</td>\n",
       "      <td>d</td>\n",
       "      <td>e</td>\n",
       "    </tr>\n",
       "  </tbody>\n",
       "</table>\n",
       "</div>"
      ],
      "text/plain": [
       "  id product the_date side data_type data_content\n",
       "0  a       b        c    b         d            e"
      ]
     },
     "execution_count": 4,
     "metadata": {},
     "output_type": "execute_result"
    }
   ],
   "source": [
    "df"
   ]
  },
  {
   "cell_type": "code",
   "execution_count": 12,
   "metadata": {},
   "outputs": [],
   "source": [
    "df.to_sql('FACTOR_SIGNAL', create_connection(ML_DB_PATH), if_exists = 'replace', index = None)"
   ]
  },
  {
   "cell_type": "code",
   "execution_count": 13,
   "metadata": {},
   "outputs": [
    {
     "data": {
      "text/html": [
       "<div>\n",
       "<style scoped>\n",
       "    .dataframe tbody tr th:only-of-type {\n",
       "        vertical-align: middle;\n",
       "    }\n",
       "\n",
       "    .dataframe tbody tr th {\n",
       "        vertical-align: top;\n",
       "    }\n",
       "\n",
       "    .dataframe thead th {\n",
       "        text-align: right;\n",
       "    }\n",
       "</style>\n",
       "<table border=\"1\" class=\"dataframe\">\n",
       "  <thead>\n",
       "    <tr style=\"text-align: right;\">\n",
       "      <th></th>\n",
       "      <th>id</th>\n",
       "      <th>product</th>\n",
       "      <th>the_date</th>\n",
       "      <th>side</th>\n",
       "      <th>data_type</th>\n",
       "      <th>data_content</th>\n",
       "    </tr>\n",
       "  </thead>\n",
       "  <tbody>\n",
       "    <tr>\n",
       "      <th>0</th>\n",
       "      <td>a</td>\n",
       "      <td>b</td>\n",
       "      <td>c</td>\n",
       "      <td>b</td>\n",
       "      <td>d</td>\n",
       "      <td>e</td>\n",
       "    </tr>\n",
       "  </tbody>\n",
       "</table>\n",
       "</div>"
      ],
      "text/plain": [
       "  id product the_date side data_type data_content\n",
       "0  a       b        c    b         d            e"
      ]
     },
     "execution_count": 13,
     "metadata": {},
     "output_type": "execute_result"
    }
   ],
   "source": [
    "get_df_from_sql('select * from FACTOR_SIGNAL')"
   ]
  },
  {
   "cell_type": "code",
   "execution_count": 9,
   "metadata": {},
   "outputs": [],
   "source": [
    "execute_sql(create_connection(ML_DB_PATH), 'delete from FACTOR_SIGNAL')"
   ]
  },
  {
   "cell_type": "code",
   "execution_count": 14,
   "metadata": {},
   "outputs": [],
   "source": [
    "import pandas as pd"
   ]
  },
  {
   "cell_type": "code",
   "execution_count": 15,
   "metadata": {},
   "outputs": [],
   "source": [
    "d = pd.DataFrame(range(10))"
   ]
  },
  {
   "cell_type": "code",
   "execution_count": 20,
   "metadata": {},
   "outputs": [
    {
     "data": {
      "text/html": [
       "<div>\n",
       "<style scoped>\n",
       "    .dataframe tbody tr th:only-of-type {\n",
       "        vertical-align: middle;\n",
       "    }\n",
       "\n",
       "    .dataframe tbody tr th {\n",
       "        vertical-align: top;\n",
       "    }\n",
       "\n",
       "    .dataframe thead th {\n",
       "        text-align: right;\n",
       "    }\n",
       "</style>\n",
       "<table border=\"1\" class=\"dataframe\">\n",
       "  <thead>\n",
       "    <tr style=\"text-align: right;\">\n",
       "      <th></th>\n",
       "      <th>0</th>\n",
       "      <th>1</th>\n",
       "    </tr>\n",
       "  </thead>\n",
       "  <tbody>\n",
       "    <tr>\n",
       "      <th>0</th>\n",
       "      <td>0</td>\n",
       "      <td>1</td>\n",
       "    </tr>\n",
       "    <tr>\n",
       "      <th>1</th>\n",
       "      <td>2</td>\n",
       "      <td>3</td>\n",
       "    </tr>\n",
       "    <tr>\n",
       "      <th>2</th>\n",
       "      <td>4</td>\n",
       "      <td>5</td>\n",
       "    </tr>\n",
       "    <tr>\n",
       "      <th>3</th>\n",
       "      <td>6</td>\n",
       "      <td>7</td>\n",
       "    </tr>\n",
       "    <tr>\n",
       "      <th>4</th>\n",
       "      <td>8</td>\n",
       "      <td>9</td>\n",
       "    </tr>\n",
       "    <tr>\n",
       "      <th>5</th>\n",
       "      <td>10</td>\n",
       "      <td>11</td>\n",
       "    </tr>\n",
       "    <tr>\n",
       "      <th>6</th>\n",
       "      <td>12</td>\n",
       "      <td>13</td>\n",
       "    </tr>\n",
       "    <tr>\n",
       "      <th>7</th>\n",
       "      <td>14</td>\n",
       "      <td>15</td>\n",
       "    </tr>\n",
       "    <tr>\n",
       "      <th>8</th>\n",
       "      <td>16</td>\n",
       "      <td>17</td>\n",
       "    </tr>\n",
       "    <tr>\n",
       "      <th>9</th>\n",
       "      <td>18</td>\n",
       "      <td>19</td>\n",
       "    </tr>\n",
       "  </tbody>\n",
       "</table>\n",
       "</div>"
      ],
      "text/plain": [
       "    0   1\n",
       "0   0   1\n",
       "1   2   3\n",
       "2   4   5\n",
       "3   6   7\n",
       "4   8   9\n",
       "5  10  11\n",
       "6  12  13\n",
       "7  14  15\n",
       "8  16  17\n",
       "9  18  19"
      ]
     },
     "execution_count": 20,
     "metadata": {},
     "output_type": "execute_result"
    }
   ],
   "source": [
    "d[0].apply(lambda x: pd.Series([2 * x, 2 * x  + 1]))"
   ]
  },
  {
   "cell_type": "code",
   "execution_count": 1246,
   "metadata": {},
   "outputs": [],
   "source": [
    "a = dict()"
   ]
  },
  {
   "cell_type": "code",
   "execution_count": 1248,
   "metadata": {},
   "outputs": [],
   "source": [
    "a[1] = 2"
   ]
  },
  {
   "cell_type": "code",
   "execution_count": 1249,
   "metadata": {},
   "outputs": [
    {
     "data": {
      "text/plain": [
       "dict_keys([1])"
      ]
     },
     "execution_count": 1249,
     "metadata": {},
     "output_type": "execute_result"
    }
   ],
   "source": [
    "a.keys()"
   ]
  },
  {
   "cell_type": "code",
   "execution_count": 21,
   "metadata": {},
   "outputs": [
    {
     "data": {
      "text/plain": [
       "array([5, 0, 4, ..., 5, 6, 8])"
      ]
     },
     "execution_count": 21,
     "metadata": {},
     "output_type": "execute_result"
    }
   ],
   "source": [
    "train_label"
   ]
  },
  {
   "cell_type": "code",
   "execution_count": 310,
   "metadata": {},
   "outputs": [],
   "source": [
    "train_label_t = (train_label % 2) * 2 - 1"
   ]
  },
  {
   "cell_type": "code",
   "execution_count": 312,
   "metadata": {},
   "outputs": [
    {
     "data": {
      "text/plain": [
       "array([5, 0, 4, ..., 5, 6, 8])"
      ]
     },
     "execution_count": 312,
     "metadata": {},
     "output_type": "execute_result"
    }
   ],
   "source": [
    "train_label"
   ]
  },
  {
   "cell_type": "code",
   "execution_count": 314,
   "metadata": {},
   "outputs": [],
   "source": [
    "test_label_t = (test_label % 2) *  2 - 1"
   ]
  },
  {
   "cell_type": "code",
   "execution_count": null,
   "metadata": {},
   "outputs": [],
   "source": []
  },
  {
   "cell_type": "code",
   "execution_count": 464,
   "metadata": {},
   "outputs": [],
   "source": [
    "import torch.nn.functional as F"
   ]
  },
  {
   "cell_type": "code",
   "execution_count": 614,
   "metadata": {},
   "outputs": [],
   "source": [
    "INPUT_DIM = 28 ** 2\n",
    "HIDDEN_DIM = INPUT_DIM // 2\n",
    "class FNet(nn.Module):\n",
    "    def __init__(self):\n",
    "        super(FNet, self).__init__()\n",
    "        self.h1 = nn.Linear(INPUT_DIM, 2 * INPUT_DIM)\n",
    "        self.h5 = nn.Linear(2 * INPUT_DIM, 1)\n",
    "\n",
    "    def predict(self, inp):\n",
    "        x = F.tanh(self.h1(inp))\n",
    "        x = self.h5(x)\n",
    "        return x\n",
    "\n",
    "    def forward(self, inp):\n",
    "        x = self.predict(inp)\n",
    "        return F.tanh(x)"
   ]
  },
  {
   "cell_type": "code",
   "execution_count": null,
   "metadata": {},
   "outputs": [],
   "source": []
  },
  {
   "cell_type": "code",
   "execution_count": 615,
   "metadata": {},
   "outputs": [],
   "source": [
    "p = FNet()"
   ]
  },
  {
   "cell_type": "code",
   "execution_count": 616,
   "metadata": {},
   "outputs": [],
   "source": [
    "optimizer = optim.SGD(p.parameters(), lr = 1)\n",
    "loader = Data.DataLoader(Data.TensorDataset(torch.FloatTensor(train_data), torch.FloatTensor(train_label_t)), \n",
    "                        batch_size = 250, shuffle = True)"
   ]
  },
  {
   "cell_type": "code",
   "execution_count": 625,
   "metadata": {},
   "outputs": [
    {
     "name": "stderr",
     "output_type": "stream",
     "text": [
      "/Users/zhipeng/Library/Python/3.7/lib/python/site-packages/torch/nn/functional.py:1340: UserWarning: nn.functional.tanh is deprecated. Use torch.tanh instead.\n",
      "  warnings.warn(\"nn.functional.tanh is deprecated. Use torch.tanh instead.\")\n"
     ]
    }
   ],
   "source": [
    "for _ in range(1):    \n",
    "    for _, (x, y) in enumerate(loader):\n",
    "        \n",
    "        x, y = Variable(x), Variable(y)\n",
    "        oup = p(x)\n",
    "        #loss = torch.sum(-y * oup)\n",
    "        loss = torch.mean((y - oup) ** 2)\n",
    "        #print(loss)\n",
    "        #loss = torch.mean(-y * torch.log(oup))\n",
    "        optimizer.zero_grad()\n",
    "        loss.backward()\n",
    "        optimizer.step()\n"
   ]
  },
  {
   "cell_type": "code",
   "execution_count": 626,
   "metadata": {},
   "outputs": [],
   "source": [
    "train_result = p(Variable(torch.FloatTensor(train_data))).view(60000).detach().numpy()\n",
    "test_result = p(Variable(torch.FloatTensor(test_data))).view(10000).detach().numpy()"
   ]
  },
  {
   "cell_type": "code",
   "execution_count": 627,
   "metadata": {},
   "outputs": [],
   "source": [
    "#train_loss = np.mean((train_result - train_label_t) ** 2)\n",
    "#test_loss = np.mean((test_result - test_label_t) ** 2)\n",
    "train_loss = np.mean(-train_label_t * train_result)\n",
    "test_loss = np.mean(-test_label_t * test_result)"
   ]
  },
  {
   "cell_type": "code",
   "execution_count": 628,
   "metadata": {},
   "outputs": [
    {
     "name": "stdout",
     "output_type": "stream",
     "text": [
      "0.546929267766345 0.5409217777084917\n",
      "0.5424550232681657 0.5359495343860119\n"
     ]
    },
    {
     "data": {
      "text/plain": [
       "(0.016932764634490012, 0.014799465847015381)"
      ]
     },
     "execution_count": 628,
     "metadata": {},
     "output_type": "execute_result"
    }
   ],
   "source": [
    "eval(train_result, train_label_t)\n",
    "eval(test_result, test_label_t)\n",
    "train_loss, test_loss"
   ]
  },
  {
   "cell_type": "code",
   "execution_count": 602,
   "metadata": {},
   "outputs": [],
   "source": [
    "from sklearn.metrics import average_precision_score, roc_auc_score"
   ]
  },
  {
   "cell_type": "code",
   "execution_count": 442,
   "metadata": {},
   "outputs": [],
   "source": [
    "def eval(pred, signal):\n",
    "    aupr = average_precision_score(signal > 0, pred)\n",
    "    auroc = roc_auc_score(signal > 0, pred)\n",
    "    print(aupr, auroc)"
   ]
  },
  {
   "cell_type": "code",
   "execution_count": 452,
   "metadata": {},
   "outputs": [
    {
     "name": "stdout",
     "output_type": "stream",
     "text": [
      "0.6675161150492755 0.6928053173460174\n"
     ]
    }
   ],
   "source": []
  },
  {
   "cell_type": "code",
   "execution_count": 578,
   "metadata": {},
   "outputs": [
    {
     "data": {
      "text/plain": [
       "array([0., 0., 0., ..., 0., 0., 0.], dtype=float32)"
      ]
     },
     "execution_count": 578,
     "metadata": {},
     "output_type": "execute_result"
    }
   ],
   "source": [
    "test_result"
   ]
  },
  {
   "cell_type": "code",
   "execution_count": 579,
   "metadata": {},
   "outputs": [
    {
     "data": {
      "text/plain": [
       "array([ 1, -1,  1, ..., -1,  1, -1])"
      ]
     },
     "execution_count": 579,
     "metadata": {},
     "output_type": "execute_result"
    }
   ],
   "source": [
    "test_label_t"
   ]
  },
  {
   "cell_type": "code",
   "execution_count": 556,
   "metadata": {},
   "outputs": [],
   "source": [
    "import seaborn as sb"
   ]
  },
  {
   "cell_type": "code",
   "execution_count": 613,
   "metadata": {},
   "outputs": [
    {
     "data": {
      "text/plain": [
       "<matplotlib.axes._subplots.AxesSubplot at 0x12b3a5910>"
      ]
     },
     "execution_count": 613,
     "metadata": {},
     "output_type": "execute_result"
    },
    {
     "data": {
      "image/png": "[encoded data removed]",
      "text/plain": [
       "<Figure size 432x288 with 1 Axes>"
      ]
     },
     "metadata": {
      "needs_background": "light"
     },
     "output_type": "display_data"
    }
   ],
   "source": [
    "sb.distplot(test_result)"
   ]
  },
  {
   "cell_type": "code",
   "execution_count": null,
   "metadata": {},
   "outputs": [],
   "source": []
  }
 ],
 "metadata": {
  "kernelspec": {
   "display_name": "Python 3",
   "language": "python",
   "name": "python3"
  },
  "language_info": {
   "codemirror_mode": {
    "name": "ipython",
    "version": 3
   },
   "file_extension": ".py",
   "mimetype": "text/x-python",
   "name": "python",
   "nbconvert_exporter": "python",
   "pygments_lexer": "ipython3",
   "version": "3.7.6"
  }
 },
 "nbformat": 4,
 "nbformat_minor": 4
}
